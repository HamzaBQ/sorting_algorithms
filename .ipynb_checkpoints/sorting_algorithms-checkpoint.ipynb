{
 "cells": [
  {
   "cell_type": "markdown",
   "metadata": {},
   "source": [
    "# Sorting Algorithms\n",
    "\n",
    "Sorting algorithms play a big role in optimizing a lot of processes and facilitates resolution of some complex problems. They have many applications : searching in databases, element uniqueness, frequency distribution... The problem with these algorithms is their complexity. Normal ones have a complexity of the order of n square, but a lot of optimised approaches have been developped in order to make it faster. Here, we are going to see a number of sorting algorithms normal and sophisticated ones, then evaluate them in measures of time complexity. "
   ]
  },
  {
   "cell_type": "markdown",
   "metadata": {},
   "source": [
    "### Importing librairies"
   ]
  },
  {
   "cell_type": "code",
   "execution_count": 11,
   "metadata": {},
   "outputs": [],
   "source": [
    "import matplotlib.pyplot as plt\n",
    "import time\n",
    "import math\n",
    "import random"
   ]
  },
  {
   "cell_type": "markdown",
   "metadata": {},
   "source": [
    "### Helper functions\n",
    "\n",
    "Before starting to explore the different algorithms. I'm going to implement some helper functions, especially for the testing and evaluation phase. \n",
    "For the test, things to assert are:\n",
    "* The function returns a list with the right order\n",
    "* Empty list raises an error (already done)\n",
    "\n",
    "Since there is one test, and it depends on the function we are not going to develop a unittest but rather, a simple function taking the function as argument and testing the condition below."
   ]
  },
  {
   "cell_type": "markdown",
   "metadata": {},
   "source": [
    "##### testing:"
   ]
  },
  {
   "cell_type": "code",
   "execution_count": 12,
   "metadata": {},
   "outputs": [],
   "source": [
    "def test_sort_func(func):\n",
    "    # Asserting that order is right, using expected result from\n",
    "    test_list = list(range(12))\n",
    "    # Adding some duplicates to the mix\n",
    "    test_list.extend(list(range(9,20)))\n",
    "    random.Random(2).shuffle(test_list)\n",
    "\n",
    "    # Some functions are operating directly on the list, this is why we create a copy to calculate expected result\n",
    "    test_list_copy = test_list.copy()\n",
    "    \n",
    "    func_result = func(test_list, 0, len(test_list) - 1) if func.__name__ == 'quick_sort' else func(test_list) \n",
    "    expected_result = sorted(test_list_copy)\n",
    "    assert expected_result == func_result, 'the list was not well ordered'\n",
    "    print('works well')"
   ]
  },
  {
   "cell_type": "markdown",
   "metadata": {},
   "source": [
    "##### Time performance:\n",
    "For Evaluation, we are going to run each algorithm on lists of different lengths : 10, 100, 1000... and save the time taken by each sorting operation. Then, plot 'list lengths vs times taken'.  "
   ]
  },
  {
   "cell_type": "code",
   "execution_count": 17,
   "metadata": {},
   "outputs": [],
   "source": [
    "def evaluate_func(func): \n",
    "    list_lengths = [10**i for i in range(1, 5)]\n",
    "    times_taken = []\n",
    "\n",
    "    for list_length in list_lengths:\n",
    "        my_list = list(range(list_length))\n",
    "        # Same seed for list shuffling to have same testing lists for different algorithms\n",
    "        random.Random(2).shuffle(my_list)\n",
    "        # special case for quick_sort algorithm\n",
    "        if func.__name__ == 'quick_sort':\n",
    "            low = 0\n",
    "            high = list_length - 1\n",
    "            start = time.time()\n",
    "            func(my_list, low, high)\n",
    "            end = time.time()\n",
    "            times_taken.append(end - start)\n",
    "        else:\n",
    "            start = time.time()\n",
    "            ordered_list = func(my_list)\n",
    "            end = time.time()\n",
    "            times_taken.append(end - start)\n",
    "\n",
    "    # ploting list lengths vs times taken\n",
    "    plt.figure(figsize = (10,8))\n",
    "    plt.scatter([math.log10(i) for i in list_lengths], [math.log10(i*1000+1) for i in times_taken], color = 'blue')\n",
    "    plt.title(func.__name__)\n",
    "    plt.xlabel('Powers of 10 of list lengths')\n",
    "    plt.ylabel('Powers of 10 of times taken (ms)')\n",
    "    plt.xticks([math.log10(i) for i in list_lengths])\n",
    "    plt.yticks([math.log10(i*1000 + 1) for i in times_taken], size = 'medium')\n",
    "    plt.show()"
   ]
  },
  {
   "cell_type": "markdown",
   "metadata": {},
   "source": [
    "### Selection sort\n",
    "\n",
    "The principle of selection sort is very simple. Given the list of elements to be sorted, we look for its minimum, push it into the result list and finally remove it from original list, then iterate and do the same until there are no elements in original list. the result list represents then the sorted list.\n",
    "\n",
    "#### Implementation"
   ]
  },
  {
   "cell_type": "code",
   "execution_count": 18,
   "metadata": {},
   "outputs": [],
   "source": [
    "def selection_sort(my_list):\n",
    "    # first we assert that the list is not empty \n",
    "    assert len(my_list) != 0, 'list is empty'\n",
    "    \n",
    "    ordered_list = []\n",
    "    while len(my_list) != 0:\n",
    "        # Find the minimum\n",
    "        actual_list_min = min(my_list) \n",
    "        # Add it to the result list\n",
    "        ordered_list.append(actual_list_min)\n",
    "        # Remove it from original list\n",
    "        my_list.remove(actual_list_min)\n",
    "    return ordered_list"
   ]
  },
  {
   "cell_type": "code",
   "execution_count": 19,
   "metadata": {},
   "outputs": [
    {
     "name": "stdout",
     "output_type": "stream",
     "text": [
      "works well\n"
     ]
    }
   ],
   "source": [
    "test_sort_func(selection_sort)"
   ]
  },
  {
   "cell_type": "markdown",
   "metadata": {},
   "source": [
    "#### Time complexity\n",
    "\n",
    "Looking back at the algorithm, it consists of a loop over the length of the list (let's denote it \"n\"). And inside the loop we are performing a search of the minimum of the list and then we are performing a removing operation. These last operations take O(n) time complexity, and each time the length of the list goes down by one because of the removal of the element. Then the total number of operations is : \\begin{equation*}\n",
    " n + (n-1) + ... + 1 = n(n+1)/2 = O(n^2)\n",
    "\\end{equation*}\n",
    "\n",
    "To be more clear. Let us see how it performs when having large lists. We are going to check the time taken by the algorithm for lists of lengths : 10, 100, 1000..."
   ]
  },
  {
   "cell_type": "markdown",
   "metadata": {},
   "source": [
    "##### Performance"
   ]
  },
  {
   "cell_type": "code",
   "execution_count": 20,
   "metadata": {},
   "outputs": [
    {
     "data": {
      "image/png": "[encoded data removed]",
      "text/plain": [
       "<Figure size 720x576 with 1 Axes>"
      ]
     },
     "metadata": {},
     "output_type": "display_data"
    }
   ],
   "source": [
    "evaluate_func(selection_sort)"
   ]
  },
  {
   "cell_type": "markdown",
   "metadata": {},
   "source": [
    "We can see directly from the graph that each time the power of the list lenghts grows up by one, the time taken to sort it grows up by almost 2. Which confirms the complexity of O(n^2). This is an old sorting algorithm and it is simple to implement but very time expensive.\n",
    "\n",
    "### Bubble sort\n",
    "\n",
    "Bubble sort is another sorting algorithm, its idea is very simple too. It iterates over the list, comparing and swaping (if necessary) every two adjacent elements starting from the head of the list till the end. After one iteration, the greatest element is surely moved to the tail of the list, which is its right place. After multiple iterations, the list becomes sorted. In fact, iteration number 'i' is going to make sure that the ith greatest element is in its ordered place, so after 'list_length' iterations, the list will be sorted.  \n",
    "\n",
    "#### Implementation"
   ]
  },
  {
   "cell_type": "code",
   "execution_count": 21,
   "metadata": {},
   "outputs": [],
   "source": [
    "def bubble_sort(my_list):\n",
    "    # first we assert that the list is not empty \n",
    "    assert len(my_list) != 0, 'list is empty'\n",
    "    \n",
    "    n_iterations = len(my_list)\n",
    "    for j in range(n_iterations):\n",
    "        for i in range(len(my_list) - j - 1):\n",
    "            if my_list[i] > my_list[i+1]:\n",
    "                my_list[i], my_list[i+1] = my_list[i+1], my_list[i]\n",
    "    \n",
    "    return my_list"
   ]
  },
  {
   "cell_type": "markdown",
   "metadata": {},
   "source": [
    "##### Time complexity\n",
    "\n",
    "Looking at the code, the first loop makes n operations, and each operation consists of looping over the list till len(my_list) - j and swapping numbers (if necessary) two by two. the total number of operations is then:\n",
    "\n",
    "\\begin{equation*}\n",
    " n + (n-1) + ... + 1 = n(n+1)/2 = O(n^2)\n",
    "\\end{equation*}\n",
    "\n",
    "This is true even if the list is already sorted. A little optimisation of this algorithm can be done by adding a check at the end of the inner loop. If no numbers were swapped in the inner loop, then the list is already sorted at this point and no further operations are needed. This is what we are going to do here :   \n"
   ]
  },
  {
   "cell_type": "code",
   "execution_count": 22,
   "metadata": {},
   "outputs": [],
   "source": [
    "def bubble_sort_2(my_list):\n",
    "    # first we assert that the list is not empty \n",
    "    assert len(my_list) != 0, 'list is empty'\n",
    "    \n",
    "    n_iterations = len(my_list) \n",
    "    for j in range(n_iterations):\n",
    "        swapped = False\n",
    "        \n",
    "        # swap every two adjacent if not ordered\n",
    "        for i in range(len(my_list) - j - 1):\n",
    "            if my_list[i] > my_list[i+1]:\n",
    "                my_list[i], my_list[i+1] = my_list[i+1], my_list[i]\n",
    "                swapped = True\n",
    "        \n",
    "        # break if no swap made\n",
    "        if swapped == False:\n",
    "            return my_list"
   ]
  },
  {
   "cell_type": "markdown",
   "metadata": {},
   "source": [
    "Now let's try this two function and evaluate their time complexity: "
   ]
  },
  {
   "cell_type": "code",
   "execution_count": 23,
   "metadata": {},
   "outputs": [
    {
     "name": "stdout",
     "output_type": "stream",
     "text": [
      "--- Bubble sort 1 ---\n",
      "works well\n",
      "\n",
      " --- Bubble sort 2 ---\n",
      "works well\n"
     ]
    }
   ],
   "source": [
    "\n",
    "print('--- Bubble sort 1 ---')\n",
    "test_sort_func(bubble_sort)\n",
    "\n",
    "print('\\n --- Bubble sort 2 ---')\n",
    "test_sort_func(bubble_sort_2)"
   ]
  },
  {
   "cell_type": "markdown",
   "metadata": {},
   "source": [
    "#### Performance \n",
    "\n",
    "we can see that the algorithm works well, now what about time complexity:  "
   ]
  },
  {
   "cell_type": "code",
   "execution_count": 24,
   "metadata": {},
   "outputs": [
    {
     "data": {
      "image/png": "[encoded data removed]",
      "text/plain": [
       "<Figure size 720x576 with 1 Axes>"
      ]
     },
     "metadata": {},
     "output_type": "display_data"
    },
    {
     "data": {
      "image/png": "[encoded data removed]",
      "text/plain": [
       "<Figure size 720x576 with 1 Axes>"
      ]
     },
     "metadata": {},
     "output_type": "display_data"
    }
   ],
   "source": [
    "evaluate_func(bubble_sort)\n",
    "evaluate_func(bubble_sort_2)"
   ]
  },
  {
   "cell_type": "markdown",
   "metadata": {},
   "source": [
    "We can see a little difference between the two. The little optimisation we did had its influence in some cases but overall, this algorithm is slower than selection sort."
   ]
  },
  {
   "cell_type": "markdown",
   "metadata": {},
   "source": [
    "### Insertion sort\n",
    "\n",
    "One of the usual and intuitive sort algorithms is insertion sort, it uses the same technique we use to order the cards on our hand while receiving them. An image is better than thousand words : \n",
    "![insertion sort](insertion_sort.png)"
   ]
  },
  {
   "cell_type": "markdown",
   "metadata": {},
   "source": [
    "#### Implementation"
   ]
  },
  {
   "cell_type": "code",
   "execution_count": 25,
   "metadata": {},
   "outputs": [],
   "source": [
    "def insertion_sort(my_list):\n",
    "    assert len(my_list) != 0, 'list is empty'\n",
    "    \n",
    "    for i in range(1, len(my_list)):\n",
    "        elet = my_list[i]\n",
    "        \n",
    "        # compare element with previous elements in list\n",
    "        j = i - 1\n",
    "        while j >= 0:\n",
    "            if my_list[j] > elet:\n",
    "                my_list[j+1] = my_list[j]\n",
    "                j -=1\n",
    "            else:\n",
    "                break\n",
    "\n",
    "        my_list[j+1] = elet\n",
    "    return my_list"
   ]
  },
  {
   "cell_type": "markdown",
   "metadata": {},
   "source": [
    "We test it against the built-in 'sorted' function : "
   ]
  },
  {
   "cell_type": "code",
   "execution_count": 27,
   "metadata": {},
   "outputs": [
    {
     "name": "stdout",
     "output_type": "stream",
     "text": [
      "-- insertion sort --\n",
      "works well\n"
     ]
    }
   ],
   "source": [
    "print('-- insertion sort --')\n",
    "test_sort_func(insertion_sort)"
   ]
  },
  {
   "cell_type": "markdown",
   "metadata": {},
   "source": [
    "#### Performance\n",
    "\n",
    "Same for other algorithms, the algorithm contains nested loops, and the inner loop doesn't iterate fully on the list but has conditions. So for the worst case, the algorithm have a complexity of O(n^2). "
   ]
  },
  {
   "cell_type": "code",
   "execution_count": 28,
   "metadata": {},
   "outputs": [
    {
     "data": {
      "image/png": "[encoded data removed]",
      "text/plain": [
       "<Figure size 720x576 with 1 Axes>"
      ]
     },
     "metadata": {},
     "output_type": "display_data"
    }
   ],
   "source": [
    "evaluate_func(insertion_sort)"
   ]
  },
  {
   "cell_type": "markdown",
   "metadata": {},
   "source": [
    "We can see that the time taken resembles other algorithms, better than bubble sort but worse then selection sort. "
   ]
  },
  {
   "cell_type": "markdown",
   "metadata": {},
   "source": [
    "### Merge sort\n",
    "\n",
    "Now we are going to see some unusual ways of sorting lists of numbers. One of them is merge sort. it's a Divide and Conquer algorithm, it takes the list and divides it to two groups and then solves the problem for each one of the groups. Then it merges results from ordering the two groups into the final result. Algorithm steps :  \n",
    "\n",
    "* Divide the list by two\n",
    "* Order the two parts\n",
    "* Merge the two ordered parts\n",
    "\n",
    "This steps are done recursively, meaning dividing the problem by two at each level until it contains one unique element. Finally, merge back all the groups two by two until getting the ordered list."
   ]
  },
  {
   "cell_type": "markdown",
   "metadata": {},
   "source": [
    "#### Implementation"
   ]
  },
  {
   "cell_type": "code",
   "execution_count": 30,
   "metadata": {},
   "outputs": [],
   "source": [
    "def merge_sort(my_list):\n",
    "    # asserting non emptiness of the list\n",
    "    assert len(my_list) > 0, 'list is empty'\n",
    "    \n",
    "    if len(my_list) == 1:\n",
    "        return my_list\n",
    "    \n",
    "    else:\n",
    "        first_half = my_list[0:len(my_list)//2]\n",
    "        second_half = my_list[len(my_list)//2:]\n",
    "        first_sorted = merge_sort(first_half)\n",
    "        second_sorted = merge_sort(second_half)\n",
    "        return merge_sorted_arrays(first_sorted, second_sorted)\n",
    "\n",
    "\n",
    "def merge_sorted_arrays(f_list, s_list):\n",
    "    i = 0\n",
    "    j = 0\n",
    "    final_list = []\n",
    "    while i < len(f_list) and j < len(s_list):\n",
    "        if f_list[i] < s_list[j]:\n",
    "            final_list.append(f_list[i])\n",
    "            i+=1\n",
    "        else:\n",
    "            final_list.append(s_list[j])\n",
    "            j+=1\n",
    "    \n",
    "    if i == len(f_list):\n",
    "        while j < len(s_list):\n",
    "            final_list.append(s_list[j])\n",
    "            j+=1\n",
    "    if j == len(s_list):\n",
    "        while i < len(f_list):\n",
    "            final_list.append(f_list[i])\n",
    "            i+=1\n",
    "    return final_list\n",
    "\n"
   ]
  },
  {
   "cell_type": "markdown",
   "metadata": {},
   "source": [
    "#### Time complexity\n",
    "\n",
    "The 'divide and conquer' strategy makes the problem always divided by two till attaining the recursion stop condition. Consequently, we can model the processing of the list as a binary tree which root is containing the whole list and getting divided by two untill arriving to leafs which will represent single elements of the list. The merge sort algorithm starts operating from the leafs level (which are already ordered), and orderly merges these elements level by level untill arriving to the origin. The merging result is the ordered list. Finally, we can say that the total number of operations is: number_of_levels_in_tree * opertaions_per_level. \n",
    "\n",
    "Now, the processing tree is a perfect tree. So it has log2(n) levels, where n is the length of the list. As of The number of operations per level, it is equal to the sum of operations done by node. Looking at the merging function, we see that its complexity is O(len(f_list) + len(s_list)). If we make the sum on all nodes in a level of the tree, then the complexity is O(n) because the list is always divided on all the nodes of each level.  \n",
    "\n",
    "Mathematically, the problem can be posed as the recursive numerical sequence:  \\begin{equation*} C(n) = 2*C(n/2) + O(n) \\end{equation*} \n",
    "where C denotes time complexity and n the length of the list. This equation resolves to \\begin{equation*} C(n) = O(nlog2(n)) \\end{equation*}\n"
   ]
  },
  {
   "cell_type": "markdown",
   "metadata": {},
   "source": [
    "#### Performance"
   ]
  },
  {
   "cell_type": "code",
   "execution_count": 31,
   "metadata": {},
   "outputs": [
    {
     "data": {
      "image/png": "[encoded data removed]",
      "text/plain": [
       "<Figure size 720x576 with 1 Axes>"
      ]
     },
     "metadata": {},
     "output_type": "display_data"
    }
   ],
   "source": [
    "evaluate_func(merge_sort)"
   ]
  },
  {
   "cell_type": "markdown",
   "metadata": {},
   "source": [
    "We can see from the plot that the performance of the algorithm is a lot better than previous algorithms."
   ]
  },
  {
   "cell_type": "markdown",
   "metadata": {},
   "source": [
    "### Quick sort\n",
    "\n",
    "Last but not least is the quick sort algorithm. It's also a divide and conquer algorithm but with a different technique than merge sort. It's the dividing strategy that differs. In fact, the quick sort strategy is to choose an element from the list, it is called the pivot, and then compares it to each element of the list. It then switches elments in order to have bigger ones than the pivot on its right side and lesser ones on its left side. We can conclude that after this operation, the pivot will be in its right place in the ordered list. Finally, it recursively does the same with the two groups (to the left/right of the pivot) untill each element is in its place. Another time, here is an image to understand well the principle of this algorithm: \n",
    "![quick_sort](quick_sort.png)"
   ]
  },
  {
   "cell_type": "markdown",
   "metadata": {},
   "source": [
    "#### Implementation \n",
    "\n",
    "The steps taken by the algorithm are: \n",
    "\n",
    "* Choosing last element as a pivot.\n",
    "* Iterate over list and swap. (greater to the right, lesser to the left)\n",
    "* recursively do the same for the two groups "
   ]
  },
  {
   "cell_type": "code",
   "execution_count": 35,
   "metadata": {},
   "outputs": [],
   "source": [
    "def partition(my_list, low, high):\n",
    "    i = (low-1)         \n",
    "    pivot = my_list[high]   \n",
    "  \n",
    "    for j in range(low , high): \n",
    "  \n",
    "        # If current element is smaller than or \n",
    "        # equal to pivot \n",
    "        if   my_list[j] <= pivot: \n",
    "          \n",
    "            # increment index of smaller element \n",
    "            i = i+1 \n",
    "            my_list[i],my_list[j] = my_list[j],my_list[i] \n",
    "  \n",
    "    my_list[i+1],my_list[high] = my_list[high],my_list[i+1] \n",
    "    return ( i+1 ) \n",
    " \n",
    "def quick_sort(my_list,low,high): \n",
    "    if low < high: \n",
    "  \n",
    "        # pi is partitioning index, mylist[pi] is now \n",
    "        # at right place \n",
    "        pi = partition(my_list,low,high) \n",
    "  \n",
    "        # Separately sort elements before \n",
    "        # partition and after partition \n",
    "        quick_sort(my_list, low, pi-1) \n",
    "        quick_sort(my_list, pi+1, high)\n",
    "    return my_list"
   ]
  },
  {
   "cell_type": "markdown",
   "metadata": {},
   "source": [
    "Let's try it on a simple list first then evaluate it: "
   ]
  },
  {
   "cell_type": "code",
   "execution_count": 36,
   "metadata": {},
   "outputs": [
    {
     "name": "stdout",
     "output_type": "stream",
     "text": [
      "works well\n"
     ]
    }
   ],
   "source": [
    "test_sort_func(quick_sort)"
   ]
  },
  {
   "cell_type": "markdown",
   "metadata": {},
   "source": [
    "#### Time complexity\n",
    "\n",
    "It's the same complexity as Merge sort but in this case quick_sort doesn't take as many space as merge_sort because it swaps the elements inplace whereas merge sort creates a new list to merge the two ordered lists. this list creation is costly for application of this algorithms to large lists. "
   ]
  },
  {
   "cell_type": "markdown",
   "metadata": {},
   "source": [
    "#### Performance"
   ]
  },
  {
   "cell_type": "code",
   "execution_count": 37,
   "metadata": {},
   "outputs": [
    {
     "data": {
      "image/png": "[encoded data removed]",
      "text/plain": [
       "<Figure size 720x576 with 1 Axes>"
      ]
     },
     "metadata": {},
     "output_type": "display_data"
    }
   ],
   "source": [
    "evaluate_func(quick_sort)"
   ]
  }
 ],
 "metadata": {
  "kernelspec": {
   "display_name": "Python 3",
   "language": "python",
   "name": "python3"
  },
  "language_info": {
   "codemirror_mode": {
    "name": "ipython",
    "version": 3
   },
   "file_extension": ".py",
   "mimetype": "text/x-python",
   "name": "python",
   "nbconvert_exporter": "python",
   "pygments_lexer": "ipython3",
   "version": "3.6.5"
  }
 },
 "nbformat": 4,
 "nbformat_minor": 2
}
